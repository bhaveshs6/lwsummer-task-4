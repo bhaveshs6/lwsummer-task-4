{
 "cells": [
  {
   "cell_type": "code",
   "execution_count": 1,
   "id": "sixth-movement",
   "metadata": {},
   "outputs": [],
   "source": [
    "import cv2\n",
    "batman =  cv2.imread(\"batman-swarovski-5492687.jpg\")\n",
    "superman =  cv2.imread(\"dc-comics-superman-swarovski-5556951.jpg\")"
   ]
  },
  {
   "cell_type": "code",
   "execution_count": 2,
   "id": "integrated-developer",
   "metadata": {},
   "outputs": [],
   "source": [
    "def picshow(photo):\n",
    "    cv2.imshow(\"hi\", photo)\n",
    "    cv2.waitKey()\n",
    "    cv2.destroyAllWindows()"
   ]
  },
  {
   "cell_type": "code",
   "execution_count": 3,
   "id": "remarkable-screw",
   "metadata": {},
   "outputs": [],
   "source": [
    "picshow(batman)"
   ]
  },
  {
   "cell_type": "code",
   "execution_count": 4,
   "id": "therapeutic-operation",
   "metadata": {},
   "outputs": [],
   "source": [
    "picshow(superman)"
   ]
  },
  {
   "cell_type": "code",
   "execution_count": 5,
   "id": "twenty-apple",
   "metadata": {},
   "outputs": [],
   "source": [
    "batlogo = batman[216:270,510:594]\n",
    "superlogo = superman[296:445,750:944]\n",
    "superlogo_resized = cv2.resize(superlogo, (batlogo.shape[1],batlogo.shape[0]))\n",
    "batlogo_resized = cv2.resize(batlogo, (superlogo.shape[1],superlogo.shape[0]))\n",
    "batman[216:270,510:594] = superlogo_resized\n",
    "superman[296:445,750:944] = batlogo_resized"
   ]
  },
  {
   "cell_type": "code",
   "execution_count": 6,
   "id": "alternative-memory",
   "metadata": {},
   "outputs": [],
   "source": [
    "picshow(batman)"
   ]
  },
  {
   "cell_type": "code",
   "execution_count": 7,
   "id": "chinese-portugal",
   "metadata": {},
   "outputs": [],
   "source": [
    "picshow(superman)"
   ]
  },
  {
   "cell_type": "code",
   "execution_count": 8,
   "id": "secure-morris",
   "metadata": {},
   "outputs": [
    {
     "data": {
      "text/plain": [
       "True"
      ]
     },
     "execution_count": 8,
     "metadata": {},
     "output_type": "execute_result"
    }
   ],
   "source": [
    "cv2.imwrite(\"bat_superlogo.jpg\", batman)"
   ]
  },
  {
   "cell_type": "code",
   "execution_count": 9,
   "id": "local-panic",
   "metadata": {},
   "outputs": [
    {
     "data": {
      "text/plain": [
       "True"
      ]
     },
     "execution_count": 9,
     "metadata": {},
     "output_type": "execute_result"
    }
   ],
   "source": [
    "cv2.imwrite(\"super_batlogo.jpg\", superman)"
   ]
  },
  {
   "cell_type": "code",
   "execution_count": null,
   "id": "italian-china",
   "metadata": {},
   "outputs": [],
   "source": []
  }
 ],
 "metadata": {
  "kernelspec": {
   "display_name": "Python 3",
   "language": "python",
   "name": "python3"
  },
  "language_info": {
   "codemirror_mode": {
    "name": "ipython",
    "version": 3
   },
   "file_extension": ".py",
   "mimetype": "text/x-python",
   "name": "python",
   "nbconvert_exporter": "python",
   "pygments_lexer": "ipython3",
   "version": "3.7.10"
  }
 },
 "nbformat": 4,
 "nbformat_minor": 5
}
