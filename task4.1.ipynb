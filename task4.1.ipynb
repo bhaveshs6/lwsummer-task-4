{
 "cells": [
  {
   "cell_type": "code",
   "execution_count": 1,
   "metadata": {},
   "outputs": [],
   "source": [
    "import cv2 \n",
    "import numpy as np"
   ]
  },
  {
   "cell_type": "code",
   "execution_count": 2,
   "metadata": {},
   "outputs": [],
   "source": [
    "frame = np.ones((400,500))"
   ]
  },
  {
   "cell_type": "code",
   "execution_count": 3,
   "metadata": {},
   "outputs": [],
   "source": [
    "def  picshow(photo):\n",
    "        cv2.imshow(\"my photo\", photo)\n",
    "        cv2.waitKey()\n",
    "        cv2.destroyAllWindows()"
   ]
  },
  {
   "cell_type": "code",
   "execution_count": 7,
   "metadata": {},
   "outputs": [],
   "source": [
    "picshow(frame)"
   ]
  },
  {
   "cell_type": "code",
   "execution_count": 8,
   "metadata": {},
   "outputs": [],
   "source": [
    "frame_test = frame.copy()\n",
    "head = cv2.circle(frame_test,center=(150,100),radius=50,thickness= 2,color=(0,0))\n",
    "picshow(frame_test)"
   ]
  },
  {
   "cell_type": "code",
   "execution_count": 9,
   "metadata": {},
   "outputs": [],
   "source": [
    "head = cv2.circle(frame_test,center=(150,100),radius=50,thickness= 2,color=(0,0))\n",
    "picshow(frame_test)\n"
   ]
  },
  {
   "cell_type": "code",
   "execution_count": 16,
   "metadata": {},
   "outputs": [],
   "source": [
    "frame_test = frame.copy()\n",
    "\n",
    "head = cv2.circle(frame_test,center=(130,156),radius=50,thickness= 2,color=(0,0))\n",
    "\n",
    "\n",
    "# Draw a ellipse with red line borders of thickness of 5 px\n",
    "image = cv2.ellipse(frame_test, center = (300, 180),axes = (120, 75),\n",
    "          angle = 0, startAngle = 0,endAngle = 360,color = (0, 0, 255), thickness = 2)\n",
    "\n",
    "image1 = cv2.ellipse(frame_test, center = (310, 180),axes = (60, 40),\n",
    "          angle = 0, startAngle = 0,endAngle = 360,color = (0, 0, 255), thickness = 2)\n",
    "# Displaying the image \n",
    "picshow(frame_test)"
   ]
  },
  {
   "cell_type": "code",
   "execution_count": null,
   "metadata": {},
   "outputs": [],
   "source": []
  },
  {
   "cell_type": "code",
   "execution_count": 41,
   "metadata": {},
   "outputs": [],
   "source": [
    "frame_test = frame.copy()\n",
    "\n",
    "head = cv2.circle(frame_test,center=(130,156),radius=50,thickness= 2,color=(0,0))\n",
    "head = cv2.circle(frame_test,center=(130,156),radius=50,thickness= -1,color=(0.4,1))\n",
    "\n",
    "eye = cv2.circle(frame_test,center=(100,156),radius=5,thickness=-1,color=(0,0,255)) \n",
    "\n",
    "image = cv2.ellipse(frame_test, center = (300, 180),axes = (120, 75),\n",
    "          angle = 0, startAngle = 0,endAngle = 360, color = (0, 0, 255), thickness = 2)\n",
    "\n",
    "image1 = cv2.ellipse(frame_test, center = (310, 180),axes = (60, 40),\n",
    "          angle = 0, startAngle = 0,endAngle = 360,color = (0, 1), thickness = 2)\n",
    "\n",
    "\n",
    "pts = np.array([[85, 180], [80, 160], \n",
    "                [30, 180+30]],np.int32)\n",
    "  \n",
    "pts = pts.reshape((-1, 1, 2))\n",
    "  \n",
    "isClosed = True\n",
    "\n",
    "color = (0, 0, 0)\n",
    "\n",
    "thickness = 2\n",
    "  \n",
    "\n",
    "image = cv2.polylines(frame_test,\n",
    "                      [pts], \n",
    "                      isClosed,\n",
    "                      color,\n",
    "                      thickness)\n",
    "\n",
    "pts = np.array([[250+20, 250], [180+40, 290], \n",
    "                [230+20, 310]], np.int32)\n",
    "  \n",
    "pts = pts.reshape((-1, 1, 2))\n",
    "  \n",
    "\n",
    "image = cv2.polylines(frame_test, [pts], \n",
    "                      isClosed, color, thickness)\n",
    "\n",
    "X = 70\n",
    "pts1 = np.array([[250+X, 250], [300+X, 290], \n",
    "                [270+X, 310]],np.int32)\n",
    "\n",
    "  \n",
    "pts1 = pts1.reshape((-1, 1, 2))\n",
    "  \n",
    "\n",
    "image = cv2.polylines(frame_test, [pts1], \n",
    "                      isClosed, color, thickness)\n",
    "\n",
    "pts2 = np.array([[420, 180], [420+50, 200], \n",
    "                [420+50, 160]],np.int32)\n",
    "  \n",
    "pts2 = pts2.reshape((-1, 1, 2))\n",
    "  \n",
    "\n",
    "image = cv2.polylines(frame_test, [pts2], \n",
    "                      isClosed, color, thickness)\n",
    "\n",
    "picshow(frame_test)"
   ]
  },
  {
   "cell_type": "code",
   "execution_count": null,
   "metadata": {},
   "outputs": [],
   "source": []
  },
  {
   "cell_type": "code",
   "execution_count": null,
   "metadata": {},
   "outputs": [],
   "source": []
  }
 ],
 "metadata": {
  "kernelspec": {
   "display_name": "Python 3",
   "language": "python",
   "name": "python3"
  },
  "language_info": {
   "codemirror_mode": {
    "name": "ipython",
    "version": 3
   },
   "file_extension": ".py",
   "mimetype": "text/x-python",
   "name": "python",
   "nbconvert_exporter": "python",
   "pygments_lexer": "ipython3",
   "version": "3.7.10"
  }
 },
 "nbformat": 4,
 "nbformat_minor": 4
}
