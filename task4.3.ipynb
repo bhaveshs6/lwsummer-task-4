{
 "cells": [
  {
   "cell_type": "code",
   "execution_count": 1,
   "id": "organic-socket",
   "metadata": {},
   "outputs": [],
   "source": [
    "import cv2"
   ]
  },
  {
   "cell_type": "code",
   "execution_count": 2,
   "id": "worth-butter",
   "metadata": {},
   "outputs": [],
   "source": [
    "batman = cv2.imread(\"batman-swarovski-5492687.jpg\")\n",
    "superman = cv2.imread(\"dc-comics-superman-swarovski-5556951.jpg\")\n",
    "bat_superlogo = cv2.imread(\"bat_superlogo.jpg\")\n",
    "super_batlogo = cv2.imread(\"super_batlogo.jpg\")"
   ]
  },
  {
   "cell_type": "code",
   "execution_count": 3,
   "id": "choice-armstrong",
   "metadata": {},
   "outputs": [],
   "source": [
    "superman_resized = cv2.resize(superman, (batman.shape[1],batman.shape[0]))\n",
    "super_batlogo_resized = cv2.resize(super_batlogo, (batman.shape[1],batman.shape[0]))"
   ]
  },
  {
   "cell_type": "code",
   "execution_count": 4,
   "id": "acting-revelation",
   "metadata": {},
   "outputs": [],
   "source": [
    "def  picshow(photo):\n",
    "        cv2.imshow(\"my photo\", photo)\n",
    "        cv2.waitKey()\n",
    "        cv2.destroyAllWindows()"
   ]
  },
  {
   "cell_type": "code",
   "execution_count": 5,
   "id": "false-special",
   "metadata": {},
   "outputs": [],
   "source": [
    "import numpy as np\n",
    "superbat = np.hstack((batman, superman_resized))\n",
    "picshow(superbat)\n",
    "superbat1 = np.hstack((bat_superlogo, super_batlogo_resized))\n",
    "picshow(superbat1)\n",
    "final_stack = np.vstack((superbat, superbat1))"
   ]
  },
  {
   "cell_type": "code",
   "execution_count": 6,
   "id": "eastern-bride",
   "metadata": {},
   "outputs": [],
   "source": [
    "final_stack = cv2.resize(final_stack, (1000,1000))"
   ]
  },
  {
   "cell_type": "code",
   "execution_count": 7,
   "id": "packed-object",
   "metadata": {},
   "outputs": [],
   "source": [
    "picshow(final_stack)"
   ]
  },
  {
   "cell_type": "code",
   "execution_count": 8,
   "id": "searching-person",
   "metadata": {},
   "outputs": [
    {
     "data": {
      "text/plain": [
       "(1000, 1000, 3)"
      ]
     },
     "execution_count": 8,
     "metadata": {},
     "output_type": "execute_result"
    }
   ],
   "source": [
    "batman.shape"
   ]
  },
  {
   "cell_type": "code",
   "execution_count": null,
   "id": "resident-combining",
   "metadata": {},
   "outputs": [],
   "source": []
  }
 ],
 "metadata": {
  "kernelspec": {
   "display_name": "Python 3",
   "language": "python",
   "name": "python3"
  },
  "language_info": {
   "codemirror_mode": {
    "name": "ipython",
    "version": 3
   },
   "file_extension": ".py",
   "mimetype": "text/x-python",
   "name": "python",
   "nbconvert_exporter": "python",
   "pygments_lexer": "ipython3",
   "version": "3.7.10"
  }
 },
 "nbformat": 4,
 "nbformat_minor": 5
}
